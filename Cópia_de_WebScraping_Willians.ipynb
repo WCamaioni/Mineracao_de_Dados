{
  "nbformat": 4,
  "nbformat_minor": 0,
  "metadata": {
    "colab": {
      "provenance": [],
      "include_colab_link": true
    },
    "kernelspec": {
      "name": "python3",
      "display_name": "Python 3"
    },
    "language_info": {
      "name": "python"
    }
  },
  "cells": [
    {
      "cell_type": "markdown",
      "metadata": {
        "id": "view-in-github",
        "colab_type": "text"
      },
      "source": [
        "<a href=\"https://colab.research.google.com/github/WCamaioni/Mineracao_de_Dados/blob/main/C%C3%B3pia_de_WebScraping_Willians.ipynb\" target=\"_parent\"><img src=\"https://colab.research.google.com/assets/colab-badge.svg\" alt=\"Open In Colab\"/></a>"
      ]
    },
    {
      "cell_type": "code",
      "execution_count": 36,
      "metadata": {
        "colab": {
          "base_uri": "https://localhost:8080/"
        },
        "id": "SNl2KL5v_dUI",
        "outputId": "52353db5-23f5-4b5d-96a3-c66b7ca68d1a"
      },
      "outputs": [
        {
          "output_type": "stream",
          "name": "stdout",
          "text": [
            "Requirement already satisfied: requests in /usr/local/lib/python3.10/dist-packages (2.32.3)\n",
            "Requirement already satisfied: charset-normalizer<4,>=2 in /usr/local/lib/python3.10/dist-packages (from requests) (3.4.0)\n",
            "Requirement already satisfied: idna<4,>=2.5 in /usr/local/lib/python3.10/dist-packages (from requests) (3.10)\n",
            "Requirement already satisfied: urllib3<3,>=1.21.1 in /usr/local/lib/python3.10/dist-packages (from requests) (2.2.3)\n",
            "Requirement already satisfied: certifi>=2017.4.17 in /usr/local/lib/python3.10/dist-packages (from requests) (2024.8.30)\n",
            "Requirement already satisfied: beautifulsoup4 in /usr/local/lib/python3.10/dist-packages (4.12.3)\n",
            "Requirement already satisfied: soupsieve>1.2 in /usr/local/lib/python3.10/dist-packages (from beautifulsoup4) (2.6)\n"
          ]
        }
      ],
      "source": [
        "# bibliotecas\n",
        "!pip install requests\n",
        "!pip install beautifulsoup4"
      ]
    },
    {
      "cell_type": "code",
      "source": [
        "import requests\n",
        "from bs4 import BeautifulSoup\n",
        "\n",
        "# URL do site de exemplo hospedado no GitHub Pages\n",
        "url = 'https://wcamaioni.github.io/site-exemplo-web--scraping/'"
      ],
      "metadata": {
        "id": "qEk1RNGP_5md"
      },
      "execution_count": 67,
      "outputs": []
    },
    {
      "cell_type": "code",
      "source": [
        "headers = {\"User-agent\":\"Mozilla/5.0 (Linux; Android 6.0; Nexus 5 Build/MRA58N) AppleWebKit/537.36 (KHTML, like Gecko) Chrome/130.0.0.0 Mobile Safari/537.36\"}\n",
        "\n"
      ],
      "metadata": {
        "id": "VvnvYCNJH_5S"
      },
      "execution_count": 68,
      "outputs": []
    },
    {
      "cell_type": "code",
      "source": [
        "# Fazendo a requisição HTTP para obter o conteúdo da página\n",
        "response = requests.get(url,headers=headers)"
      ],
      "metadata": {
        "id": "04i5rOeb_8rF"
      },
      "execution_count": 69,
      "outputs": []
    },
    {
      "cell_type": "markdown",
      "source": [],
      "metadata": {
        "id": "OPVCQxtxIsTY"
      }
    },
    {
      "cell_type": "code",
      "source": [
        "response.text"
      ],
      "metadata": {
        "colab": {
          "base_uri": "https://localhost:8080/",
          "height": 87
        },
        "id": "nz8LdcklAsZc",
        "outputId": "f5916273-e800-413a-88fd-2964014379e6"
      },
      "execution_count": 70,
      "outputs": [
        {
          "output_type": "execute_result",
          "data": {
            "text/plain": [
              "'<!DOCTYPE html>\\r\\n<html lang=\"pt-BR\">\\r\\n<meta  name=\"viewport\" content=\"winth=devide-width, initial-scale=1.0\">\\r\\n<title>Loja de Exemplo</title>\\r\\n</head>\\r\\n<body>\\r\\n    <h1>Produtos Disponíveis</h1>\\r\\n    <div class=\"produto\">\\r\\n    <h2>Produto 1</h2> \\r\\n    <p>Preço: R$ 20,00</p> \\r\\n    <p>Descrição: Um produto de alta qualidade.</p> \\r\\n    </div>\\r\\n\\r\\n    <div class=\"produto\">\\r\\n    <h2>Produto 2</h2> \\r\\n    <p>Preço: R$ 45,00</p> \\r\\n    <p>Descrição: Perfeito para o uso diário.</p> \\r\\n    </div>\\r\\n         \\r\\n    </body>\\r\\n\\r\\n</html>'"
            ],
            "application/vnd.google.colaboratory.intrinsic+json": {
              "type": "string"
            }
          },
          "metadata": {},
          "execution_count": 70
        }
      ]
    },
    {
      "cell_type": "code",
      "source": [
        "bonito = BeautifulSoup(response.text, 'html.parser')"
      ],
      "metadata": {
        "id": "4t_Xv3BuBIup"
      },
      "execution_count": 71,
      "outputs": []
    },
    {
      "cell_type": "code",
      "source": [
        "print(bonito.prettify())"
      ],
      "metadata": {
        "colab": {
          "base_uri": "https://localhost:8080/"
        },
        "id": "5C7pTYtnBRSp",
        "outputId": "491a4993-cd8f-43b1-e4fa-caa1596ea799"
      },
      "execution_count": 72,
      "outputs": [
        {
          "output_type": "stream",
          "name": "stdout",
          "text": [
            "<!DOCTYPE html>\n",
            "<html lang=\"pt-BR\">\n",
            " <meta content=\"winth=devide-width, initial-scale=1.0\" name=\"viewport\"/>\n",
            " <title>\n",
            "  Loja de Exemplo\n",
            " </title>\n",
            " <body>\n",
            "  <h1>\n",
            "   Produtos Disponíveis\n",
            "  </h1>\n",
            "  <div class=\"produto\">\n",
            "   <h2>\n",
            "    Produto 1\n",
            "   </h2>\n",
            "   <p>\n",
            "    Preço: R$ 20,00\n",
            "   </p>\n",
            "   <p>\n",
            "    Descrição: Um produto de alta qualidade.\n",
            "   </p>\n",
            "  </div>\n",
            "  <div class=\"produto\">\n",
            "   <h2>\n",
            "    Produto 2\n",
            "   </h2>\n",
            "   <p>\n",
            "    Preço: R$ 45,00\n",
            "   </p>\n",
            "   <p>\n",
            "    Descrição: Perfeito para o uso diário.\n",
            "   </p>\n",
            "  </div>\n",
            " </body>\n",
            "</html>\n",
            "\n"
          ]
        }
      ]
    },
    {
      "cell_type": "code",
      "source": [
        "# Encontrando todos os produtos na página\n",
        "\n",
        "produtos = bonito.find_all('div', class_='produto')\n",
        "# produtos = bonito.find_all('h2')\n",
        "produtos[0]"
      ],
      "metadata": {
        "colab": {
          "base_uri": "https://localhost:8080/"
        },
        "id": "VFD6lMCgCLT6",
        "outputId": "2a5c69a6-d182-49d8-a9dd-afd3de54d11f"
      },
      "execution_count": 73,
      "outputs": [
        {
          "output_type": "execute_result",
          "data": {
            "text/plain": [
              "<div class=\"produto\">\n",
              "<h2>Produto 1</h2>\n",
              "<p>Preço: R$ 20,00</p>\n",
              "<p>Descrição: Um produto de alta qualidade.</p>\n",
              "</div>"
            ]
          },
          "metadata": {},
          "execution_count": 73
        }
      ]
    },
    {
      "cell_type": "code",
      "source": [
        "nome_produto = produtos[0].find('h2').text\n",
        "print(\"Produto Nome = \",nome_produto)"
      ],
      "metadata": {
        "colab": {
          "base_uri": "https://localhost:8080/"
        },
        "id": "w1JN4oIdDxfK",
        "outputId": "570e7cef-33cc-4376-80cf-76cc2ad7c8c4"
      },
      "execution_count": 74,
      "outputs": [
        {
          "output_type": "stream",
          "name": "stdout",
          "text": [
            "Produto Nome =  Produto 1\n"
          ]
        }
      ]
    },
    {
      "cell_type": "code",
      "source": [
        "preco_produto = produtos[0].find_all('p')[0].text\n",
        "preco_produto"
      ],
      "metadata": {
        "colab": {
          "base_uri": "https://localhost:8080/",
          "height": 35
        },
        "id": "jI_S0SJCEai-",
        "outputId": "0ac53080-0635-44c0-e7a6-83cd1b6287a7"
      },
      "execution_count": 75,
      "outputs": [
        {
          "output_type": "execute_result",
          "data": {
            "text/plain": [
              "'Preço: R$ 20,00'"
            ],
            "application/vnd.google.colaboratory.intrinsic+json": {
              "type": "string"
            }
          },
          "metadata": {},
          "execution_count": 75
        }
      ]
    },
    {
      "cell_type": "code",
      "source": [
        "desc_produto = produtos[0].find_all('p')[1].text\n",
        "desc_produto"
      ],
      "metadata": {
        "colab": {
          "base_uri": "https://localhost:8080/",
          "height": 35
        },
        "id": "409n2cSrFMx9",
        "outputId": "0f0f8c4f-3cc1-4be6-8256-a607d700039d"
      },
      "execution_count": 76,
      "outputs": [
        {
          "output_type": "execute_result",
          "data": {
            "text/plain": [
              "'Descrição: Um produto de alta qualidade.'"
            ],
            "application/vnd.google.colaboratory.intrinsic+json": {
              "type": "string"
            }
          },
          "metadata": {},
          "execution_count": 76
        }
      ]
    },
    {
      "cell_type": "code",
      "source": [
        "produtos = bonito.find_all('div', class_='produto')"
      ],
      "metadata": {
        "id": "mtbhUUwGGX82"
      },
      "execution_count": 77,
      "outputs": []
    },
    {
      "cell_type": "code",
      "source": [
        "produtos"
      ],
      "metadata": {
        "colab": {
          "base_uri": "https://localhost:8080/"
        },
        "id": "efN5xo56Gayk",
        "outputId": "ecbb1f42-9eb9-420d-9c6e-c06fe20cccb1"
      },
      "execution_count": 78,
      "outputs": [
        {
          "output_type": "execute_result",
          "data": {
            "text/plain": [
              "[<div class=\"produto\">\n",
              " <h2>Produto 1</h2>\n",
              " <p>Preço: R$ 20,00</p>\n",
              " <p>Descrição: Um produto de alta qualidade.</p>\n",
              " </div>,\n",
              " <div class=\"produto\">\n",
              " <h2>Produto 2</h2>\n",
              " <p>Preço: R$ 45,00</p>\n",
              " <p>Descrição: Perfeito para o uso diário.</p>\n",
              " </div>]"
            ]
          },
          "metadata": {},
          "execution_count": 78
        }
      ]
    },
    {
      "cell_type": "code",
      "source": [
        "# Verificando se a requisição foi bem-sucedida\n",
        "if response.status_code == 200:\n",
        "    print(\"Conexão bem-sucedida!\")\n",
        "    # Criação do objeto BeautifulSoup para parsing do HTML\n",
        "    soup = BeautifulSoup(response.text, 'html.parser')\n",
        "\n",
        "    # Encontrando todos os produtos na página\n",
        "    produtos = soup.find_all('div', class_='produto')\n",
        "\n",
        "    lista = []\n",
        "    # Extraindo e exibindo as informações dos produtos\n",
        "    for produto in produtos:\n",
        "        nome = produto.find('h2').text\n",
        "        preco = produto.find('p').text\n",
        "        descricao = produto.find_all('p')[1].text\n",
        "\n",
        "        lista.append(nome)\n",
        "        lista.append(preco)\n",
        "        lista.append(descricao)\n",
        "\n",
        "        print(\"Nome:\", nome)\n",
        "        print(\"Preço:\", preco)\n",
        "        print(\"Descrição:\", descricao)\n",
        "        print(\"-\" * 20)\n",
        "else:\n",
        "    print(\"Erro ao acessar o site.\")\n",
        "\n",
        "lista"
      ],
      "metadata": {
        "colab": {
          "base_uri": "https://localhost:8080/"
        },
        "id": "k1xwscQ1__ac",
        "outputId": "e61d5c00-842e-4fc4-af78-ce741fd5bee9"
      },
      "execution_count": 79,
      "outputs": [
        {
          "output_type": "stream",
          "name": "stdout",
          "text": [
            "Conexão bem-sucedida!\n",
            "Nome: Produto 1\n",
            "Preço: Preço: R$ 20,00\n",
            "Descrição: Descrição: Um produto de alta qualidade.\n",
            "--------------------\n",
            "Nome: Produto 2\n",
            "Preço: Preço: R$ 45,00\n",
            "Descrição: Descrição: Perfeito para o uso diário.\n",
            "--------------------\n"
          ]
        },
        {
          "output_type": "execute_result",
          "data": {
            "text/plain": [
              "['Produto 1',\n",
              " 'Preço: R$ 20,00',\n",
              " 'Descrição: Um produto de alta qualidade.',\n",
              " 'Produto 2',\n",
              " 'Preço: R$ 45,00',\n",
              " 'Descrição: Perfeito para o uso diário.']"
            ]
          },
          "metadata": {},
          "execution_count": 79
        }
      ]
    },
    {
      "cell_type": "markdown",
      "source": [
        "[\n",
        "  {\n",
        "    \"produto\":\"produto1\", \"Preço\": \"R$20,00\"\n",
        "  },\n",
        "  {\n",
        "    \"produto\":\"produto2\", \"Preço\": \"R$12,00\"\n",
        "  }\n",
        "]"
      ],
      "metadata": {
        "id": "JmpLC7D1HGHs"
      }
    },
    {
      "cell_type": "code",
      "source": [
        "soup"
      ],
      "metadata": {
        "id": "cJJRgQNoAMmW",
        "colab": {
          "base_uri": "https://localhost:8080/"
        },
        "outputId": "5eab3ed3-beca-42c2-800b-26016ceec5d7"
      },
      "execution_count": 80,
      "outputs": [
        {
          "output_type": "execute_result",
          "data": {
            "text/plain": [
              "<!DOCTYPE html>\n",
              "\n",
              "<html lang=\"pt-BR\">\n",
              "<meta content=\"winth=devide-width, initial-scale=1.0\" name=\"viewport\"/>\n",
              "<title>Loja de Exemplo</title>\n",
              "\n",
              "<body>\n",
              "<h1>Produtos Disponíveis</h1>\n",
              "<div class=\"produto\">\n",
              "<h2>Produto 1</h2>\n",
              "<p>Preço: R$ 20,00</p>\n",
              "<p>Descrição: Um produto de alta qualidade.</p>\n",
              "</div>\n",
              "<div class=\"produto\">\n",
              "<h2>Produto 2</h2>\n",
              "<p>Preço: R$ 45,00</p>\n",
              "<p>Descrição: Perfeito para o uso diário.</p>\n",
              "</div>\n",
              "</body>\n",
              "</html>"
            ]
          },
          "metadata": {},
          "execution_count": 80
        }
      ]
    }
  ]
}