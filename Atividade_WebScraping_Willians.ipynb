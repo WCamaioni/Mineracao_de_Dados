{
  "nbformat": 4,
  "nbformat_minor": 0,
  "metadata": {
    "colab": {
      "provenance": [],
      "include_colab_link": true
    },
    "kernelspec": {
      "name": "python3",
      "display_name": "Python 3"
    },
    "language_info": {
      "name": "python"
    }
  },
  "cells": [
    {
      "cell_type": "markdown",
      "metadata": {
        "id": "view-in-github",
        "colab_type": "text"
      },
      "source": [
        "<a href=\"https://colab.research.google.com/github/WCamaioni/Mineracao_de_Dados/blob/main/Atividade_WebScraping_Willians.ipynb\" target=\"_parent\"><img src=\"https://colab.research.google.com/assets/colab-badge.svg\" alt=\"Open In Colab\"/></a>"
      ]
    },
    {
      "cell_type": "code",
      "execution_count": null,
      "metadata": {
        "colab": {
          "base_uri": "https://localhost:8080/"
        },
        "id": "SNl2KL5v_dUI",
        "outputId": "84ff20c9-dc9a-44cf-cce2-a9de046c3831"
      },
      "outputs": [
        {
          "output_type": "stream",
          "name": "stdout",
          "text": [
            "Requirement already satisfied: requests in /usr/local/lib/python3.10/dist-packages (2.32.3)\n",
            "Requirement already satisfied: charset-normalizer<4,>=2 in /usr/local/lib/python3.10/dist-packages (from requests) (3.4.0)\n",
            "Requirement already satisfied: idna<4,>=2.5 in /usr/local/lib/python3.10/dist-packages (from requests) (3.10)\n",
            "Requirement already satisfied: urllib3<3,>=1.21.1 in /usr/local/lib/python3.10/dist-packages (from requests) (2.2.3)\n",
            "Requirement already satisfied: certifi>=2017.4.17 in /usr/local/lib/python3.10/dist-packages (from requests) (2024.8.30)\n",
            "Requirement already satisfied: beautifulsoup4 in /usr/local/lib/python3.10/dist-packages (4.12.3)\n",
            "Requirement already satisfied: soupsieve>1.2 in /usr/local/lib/python3.10/dist-packages (from beautifulsoup4) (2.6)\n"
          ]
        }
      ],
      "source": [
        "# bibliotecas\n",
        "!pip install requests\n",
        "!pip install beautifulsoup4"
      ]
    },
    {
      "cell_type": "code",
      "source": [
        "import requests\n",
        "from bs4 import BeautifulSoup\n",
        "\n",
        "# URL do site de exemplo hospedado Web\n",
        "url = 'http://books.toscrape.com/'"
      ],
      "metadata": {
        "id": "qEk1RNGP_5md"
      },
      "execution_count": null,
      "outputs": []
    },
    {
      "cell_type": "code",
      "source": [
        "# Fazendo a requisição HTTP para obter o conteúdo da página\n",
        "response = requests.get(url)"
      ],
      "metadata": {
        "id": "QOdh70TEpZv3"
      },
      "execution_count": null,
      "outputs": []
    },
    {
      "cell_type": "markdown",
      "source": [],
      "metadata": {
        "id": "OPVCQxtxIsTY"
      }
    },
    {
      "cell_type": "code",
      "source": [
        "# prompt: exibir nome, preço ,e descricao\n",
        "\n",
        "import requests\n",
        "from bs4 import BeautifulSoup\n",
        "\n",
        "# URL do site de exemplo hospedado Web\n",
        "url = 'http://books.toscrape.com/'\n",
        "\n",
        "# Fazendo a requisição HTTP para obter o conteúdo da página\n",
        "response = requests.get(url)\n",
        "\n",
        "# Verificando se a requisição foi bem-sucedida\n",
        "if response.status_code == 200:\n",
        "    # Criação do objeto BeautifulSoup para parsing do HTML\n",
        "    soup = BeautifulSoup(response.text, 'html.parser')\n",
        "\n",
        "    # Encontrando todos os produtos na página\n",
        "    products = soup.find_all('article', class_='product_pod')\n",
        "\n",
        "    # Extraindo e exibindo as informações dos produtos\n",
        "    for product in products:\n",
        "        nome = product.h3.a['title']\n",
        "        preco = product.find('p', class_='price_color').text\n",
        "\n",
        "        # Corrigindo a extração da descrição para pegar a descrição correta\n",
        "        descricao = product.find('p', class_='instock availability').text.strip()\n",
        "\n",
        "        print(\"Nome:\", nome)\n",
        "        print(\"Preço:\", preco)\n",
        "        print(\"Descrição:\", descricao)\n",
        "        print(\"-\" * 20)\n",
        "\n",
        "else:\n",
        "    print(\"Erro ao acessar o site:\", response.status_code)"
      ],
      "metadata": {
        "colab": {
          "base_uri": "https://localhost:8080/"
        },
        "outputId": "ef4969ed-907e-490e-c905-9c3340a88e38",
        "id": "5Gl3B7XDv5ye"
      },
      "execution_count": null,
      "outputs": [
        {
          "output_type": "stream",
          "name": "stdout",
          "text": [
            "Nome: A Light in the Attic\n",
            "Preço: Â£51.77\n",
            "Descrição: In stock\n",
            "--------------------\n",
            "Nome: Tipping the Velvet\n",
            "Preço: Â£53.74\n",
            "Descrição: In stock\n",
            "--------------------\n",
            "Nome: Soumission\n",
            "Preço: Â£50.10\n",
            "Descrição: In stock\n",
            "--------------------\n",
            "Nome: Sharp Objects\n",
            "Preço: Â£47.82\n",
            "Descrição: In stock\n",
            "--------------------\n",
            "Nome: Sapiens: A Brief History of Humankind\n",
            "Preço: Â£54.23\n",
            "Descrição: In stock\n",
            "--------------------\n",
            "Nome: The Requiem Red\n",
            "Preço: Â£22.65\n",
            "Descrição: In stock\n",
            "--------------------\n",
            "Nome: The Dirty Little Secrets of Getting Your Dream Job\n",
            "Preço: Â£33.34\n",
            "Descrição: In stock\n",
            "--------------------\n",
            "Nome: The Coming Woman: A Novel Based on the Life of the Infamous Feminist, Victoria Woodhull\n",
            "Preço: Â£17.93\n",
            "Descrição: In stock\n",
            "--------------------\n",
            "Nome: The Boys in the Boat: Nine Americans and Their Epic Quest for Gold at the 1936 Berlin Olympics\n",
            "Preço: Â£22.60\n",
            "Descrição: In stock\n",
            "--------------------\n",
            "Nome: The Black Maria\n",
            "Preço: Â£52.15\n",
            "Descrição: In stock\n",
            "--------------------\n",
            "Nome: Starving Hearts (Triangular Trade Trilogy, #1)\n",
            "Preço: Â£13.99\n",
            "Descrição: In stock\n",
            "--------------------\n",
            "Nome: Shakespeare's Sonnets\n",
            "Preço: Â£20.66\n",
            "Descrição: In stock\n",
            "--------------------\n",
            "Nome: Set Me Free\n",
            "Preço: Â£17.46\n",
            "Descrição: In stock\n",
            "--------------------\n",
            "Nome: Scott Pilgrim's Precious Little Life (Scott Pilgrim #1)\n",
            "Preço: Â£52.29\n",
            "Descrição: In stock\n",
            "--------------------\n",
            "Nome: Rip it Up and Start Again\n",
            "Preço: Â£35.02\n",
            "Descrição: In stock\n",
            "--------------------\n",
            "Nome: Our Band Could Be Your Life: Scenes from the American Indie Underground, 1981-1991\n",
            "Preço: Â£57.25\n",
            "Descrição: In stock\n",
            "--------------------\n",
            "Nome: Olio\n",
            "Preço: Â£23.88\n",
            "Descrição: In stock\n",
            "--------------------\n",
            "Nome: Mesaerion: The Best Science Fiction Stories 1800-1849\n",
            "Preço: Â£37.59\n",
            "Descrição: In stock\n",
            "--------------------\n",
            "Nome: Libertarianism for Beginners\n",
            "Preço: Â£51.33\n",
            "Descrição: In stock\n",
            "--------------------\n",
            "Nome: It's Only the Himalayas\n",
            "Preço: Â£45.17\n",
            "Descrição: In stock\n",
            "--------------------\n"
          ]
        }
      ]
    },
    {
      "cell_type": "code",
      "source": [
        "# prompt: Mostra o preço médio de todos os livros listados.\n",
        "\n",
        "import requests\n",
        "from bs4 import BeautifulSoup\n",
        "\n",
        "# URL do site de exemplo hospedado Web\n",
        "url = 'http://books.toscrape.com/'\n",
        "\n",
        "# Fazendo a requisição HTTP para obter o conteúdo da página\n",
        "response = requests.get(url)\n",
        "\n",
        "# Verificando se a requisição foi bem-sucedida\n",
        "if response.status_code == 200:\n",
        "    # Criação do objeto BeautifulSoup para parsing do HTML\n",
        "    soup = BeautifulSoup(response.text, 'html.parser')\n",
        "\n",
        "    # Encontrando todos os produtos na página\n",
        "    products = soup.find_all('article', class_='product_pod')\n",
        "\n",
        "    precos = []  # Lista para armazenar os preços\n",
        "\n",
        "    # Extraindo e exibindo as informações dos produtos\n",
        "    for product in products:\n",
        "        preco_str = product.find('p', class_='price_color').text\n",
        "        preco_str = preco_str.replace('Â£', '') # Remove o símbolo da libra\n",
        "        preco = float(preco_str) # Converte o preço para um número float\n",
        "        precos.append(preco)\n",
        "\n",
        "    if precos:\n",
        "      preco_medio = sum(precos) / len(precos)\n",
        "      print(f\"O preço médio dos livros é: £{preco_medio:.2f}\")\n",
        "    else:\n",
        "      print(\"Nenhum livro encontrado na página.\")\n",
        "\n",
        "else:\n",
        "    print(\"Erro ao acessar o site:\", response.status_code)"
      ],
      "metadata": {
        "colab": {
          "base_uri": "https://localhost:8080/"
        },
        "id": "xe1v3A59xXRv",
        "outputId": "7b5ae009-db04-45c7-873c-767de80406f1"
      },
      "execution_count": null,
      "outputs": [
        {
          "output_type": "stream",
          "name": "stdout",
          "text": [
            "O preço médio dos livros é: £38.05\n"
          ]
        }
      ]
    },
    {
      "cell_type": "code",
      "source": [
        "# prompt: Informa quantos livros estão disponíveis no estoque.\n",
        "\n",
        "import requests\n",
        "from bs4 import BeautifulSoup\n",
        "\n",
        "# URL do site de exemplo hospedado Web\n",
        "url = 'http://books.toscrape.com/'\n",
        "\n",
        "# Fazendo a requisição HTTP para obter o conteúdo da página\n",
        "response = requests.get(url)\n",
        "\n",
        "# Verificando se a requisição foi bem-sucedida\n",
        "if response.status_code == 200:\n",
        "    # Criação do objeto BeautifulSoup para parsing do HTML\n",
        "    soup = BeautifulSoup(response.text, 'html.parser')\n",
        "\n",
        "    # Encontrando todos os produtos na página\n",
        "    products = soup.find_all('article', class_='product_pod')\n",
        "\n",
        "    livros_em_estoque = 0\n",
        "    # Iterar pelos produtos para verificar a disponibilidade\n",
        "    for product in products:\n",
        "        descricao = product.find('p', class_='instock availability').text.strip()\n",
        "        if \"In stock\" in descricao:\n",
        "            livros_em_estoque += 1\n",
        "\n",
        "    print(f\"Há {livros_em_estoque} livros disponíveis no estoque.\")\n",
        "\n",
        "else:\n",
        "    print(\"Erro ao acessar o site:\", response.status_code)"
      ],
      "metadata": {
        "colab": {
          "base_uri": "https://localhost:8080/"
        },
        "id": "G9qALuJFxn2m",
        "outputId": "957d79a1-5e3f-4bc5-a0f1-f1d7e6be3a24"
      },
      "execution_count": null,
      "outputs": [
        {
          "output_type": "stream",
          "name": "stdout",
          "text": [
            "Há 20 livros disponíveis no estoque.\n"
          ]
        }
      ]
    },
    {
      "cell_type": "code",
      "source": [
        "# prompt: Exibe os 3 livros com os preços mais altos na lista.\n",
        "\n",
        "# URL do site de exemplo hospedado Web\n",
        "url = 'http://books.toscrape.com/'\n",
        "\n",
        "# Fazendo a requisição HTTP para obter o conteúdo da página\n",
        "response = requests.get(url)\n",
        "\n",
        "# Verificando se a requisição foi bem-sucedida\n",
        "if response.status_code == 200:\n",
        "    # Criação do objeto BeautifulSoup para parsing do HTML\n",
        "    soup = BeautifulSoup(response.text, 'html.parser')\n",
        "\n",
        "    # Encontrando todos os produtos na página\n",
        "    products = soup.find_all('article', class_='product_pod')\n",
        "\n",
        "    livros_precos = []\n",
        "    for product in products:\n",
        "        nome = product.h3.a['title']\n",
        "        preco_str = product.find('p', class_='price_color').text\n",
        "        preco_str = preco_str.replace('Â£', '')\n",
        "        preco = float(preco_str)\n",
        "        livros_precos.append((nome, preco))\n",
        "\n",
        "    # Ordenar a lista de livros pelo preço em ordem decrescente\n",
        "    livros_precos.sort(key=lambda x: x[1], reverse=True)\n",
        "\n",
        "    # Exibir os 3 livros mais caros\n",
        "    print(\"Os 3 livros mais caros:\")\n",
        "    for i in range(min(3, len(livros_precos))):  # Limita a exibição aos 3 primeiros ou ao tamanho da lista, se menor\n",
        "        print(f\"{i+1}. {livros_precos[i][0]} - £{livros_precos[i][1]:.2f}\")\n",
        "\n",
        "else:\n",
        "    print(\"Erro ao acessar o site:\", response.status_code)"
      ],
      "metadata": {
        "colab": {
          "base_uri": "https://localhost:8080/"
        },
        "id": "tbu5FmuPx0BV",
        "outputId": "938a28dc-a888-41c0-f711-f02b918882b0"
      },
      "execution_count": null,
      "outputs": [
        {
          "output_type": "stream",
          "name": "stdout",
          "text": [
            "Os 3 livros mais caros:\n",
            "1. Our Band Could Be Your Life: Scenes from the American Indie Underground, 1981-1991 - £57.25\n",
            "2. Sapiens: A Brief History of Humankind - £54.23\n",
            "3. Tipping the Velvet - £53.74\n"
          ]
        }
      ]
    }
  ]
}